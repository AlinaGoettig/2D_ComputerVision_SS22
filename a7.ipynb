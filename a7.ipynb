{
 "cells": [
  {
   "cell_type": "code",
   "execution_count": 2,
   "metadata": {},
   "outputs": [],
   "source": [
    "import numpy as np\n",
    "from skimage import io\n",
    "import util as ut\n",
    "import math\n",
    "import matplotlib.pyplot as plt\n",
    "from skimage import util as skutil"
   ]
  },
  {
   "cell_type": "markdown",
   "metadata": {},
   "source": [
    "## Sequentielle Regionenmarkierung für Binärbilder"
   ]
  },
  {
   "cell_type": "code",
   "execution_count": 3,
   "metadata": {
    "pycharm": {
     "name": "#%%\n"
    }
   },
   "outputs": [],
   "source": [
    "def sequential_labelling(img):\n",
    "    m = 2\n",
    "    c = list()\n",
    "\n",
    "    # part 1\n",
    "    for line_idx in range(0, len(img)):\n",
    "        for pxl_idx in range(0, len(img[0])):\n",
    "            if img[line_idx][pxl_idx] == 1:\n",
    "                for i in range(-1, 2):\n",
    "                    for j in range(-1, 2):\n",
    "                        if (line_idx + i) < 0 or (pxl_idx + j) < 0:\n",
    "                            continue\n",
    "                        if line_idx + i > len(img) - 1 or pxl_idx + j > len(img[0]) - 1:\n",
    "                            continue\n",
    "                        n = img[line_idx + i][pxl_idx + j]\n",
    "                        if n > 1 and n != img[line_idx][pxl_idx]:\n",
    "                            if img[line_idx][pxl_idx] == 1:\n",
    "                                img[line_idx][pxl_idx] = n\n",
    "                            else:\n",
    "                                s = set()\n",
    "                                s.add(img[line_idx][pxl_idx])\n",
    "                                s.add(n)\n",
    "                                c.append(s)\n",
    "                if img[line_idx][pxl_idx] == 1:\n",
    "                    img[line_idx][pxl_idx] = m\n",
    "                    m += 1\n",
    "\n",
    "    ut.printImage(img)\n",
    "\n",
    "    # part 2\n",
    "    for i in range(len(c)):\n",
    "        for j in range(len(c)):\n",
    "            if c[i].__eq__(c[j]):\n",
    "                continue\n",
    "            s_tmp = c[j]\n",
    "            for value in s_tmp:\n",
    "                if value in c[i]:\n",
    "                    c[i] = c[i].union(c[j])\n",
    "                    c[j] = set()\n",
    "                    break\n",
    "\n",
    "    # part 3\n",
    "    for line_idx in range(len(img)):\n",
    "        for pxl_idx in range(len(img[0])):\n",
    "            if img[line_idx][pxl_idx] > 1:\n",
    "                for s in c:\n",
    "                    if img[line_idx][pxl_idx] in s:\n",
    "                        img[line_idx][pxl_idx] = min(s)\n",
    "    return img"
   ]
  },
  {
   "cell_type": "code",
   "execution_count": 4,
   "outputs": [],
   "source": [
    "def to_bin(img):\n",
    "    result = img.copy()\n",
    "    max_val = np.max(img)\n",
    "    for i in range(0, len(img)):\n",
    "        for j in range(0, len(img[0])):\n",
    "            if img[i][j] >= max_val / 2:\n",
    "                result[i][j] = 1\n",
    "            else:\n",
    "                result[i][j] = 0\n",
    "    return result"
   ],
   "metadata": {
    "collapsed": false,
    "pycharm": {
     "name": "#%%\n"
    }
   }
  },
  {
   "cell_type": "code",
   "execution_count": 7,
   "outputs": [
    {
     "data": {
      "text/plain": "<Figure size 432x288 with 1 Axes>",
      "image/png": "[encoded data removed]"
     },
     "metadata": {
      "needs_background": "light"
     },
     "output_type": "display_data"
    },
    {
     "data": {
      "text/plain": "<Figure size 432x288 with 1 Axes>",
      "image/png": "[encoded data removed]"
     },
     "metadata": {
      "needs_background": "light"
     },
     "output_type": "display_data"
    },
    {
     "data": {
      "text/plain": "<Figure size 432x288 with 2 Axes>",
      "image/png": "[encoded data removed]"
     },
     "metadata": {
      "needs_background": "light"
     },
     "output_type": "display_data"
    },
    {
     "data": {
      "text/plain": "<Figure size 432x288 with 2 Axes>",
      "image/png": "[encoded data removed]"
     },
     "metadata": {
      "needs_background": "light"
     },
     "output_type": "display_data"
    }
   ],
   "source": [
    "#test\n",
    "img_1 = io.imread(\"A7/regionen1.png\", plugin=\"matplotlib\", as_gray=True)\n",
    "ut.printImage(img_1,False)\n",
    "img_1 = to_bin(img_1)\n",
    "ut.printImage(img_1,False)\n",
    "\n",
    "sequential_labelling(img_1)\n",
    "ut.printImage(img_1,False)"
   ],
   "metadata": {
    "collapsed": false,
    "pycharm": {
     "name": "#%%\n"
    }
   }
  },
  {
   "cell_type": "code",
   "execution_count": null,
   "outputs": [],
   "source": [],
   "metadata": {
    "collapsed": false,
    "pycharm": {
     "name": "#%%\n"
    }
   }
  }
 ],
 "metadata": {
  "interpreter": {
   "hash": "2c76c2a27bc21991a12d750150a6d25ff8e74d73519894909027223c00ccf010"
  },
  "kernelspec": {
   "display_name": "Python 3.10.4 ('.env': venv)",
   "language": "python",
   "name": "python3"
  },
  "language_info": {
   "codemirror_mode": {
    "name": "ipython",
    "version": 3
   },
   "file_extension": ".py",
   "mimetype": "text/x-python",
   "name": "python",
   "nbconvert_exporter": "python",
   "pygments_lexer": "ipython3",
   "version": "3.10.4"
  },
  "orig_nbformat": 4
 },
 "nbformat": 4,
 "nbformat_minor": 2
}